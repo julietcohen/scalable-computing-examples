{
 "cells": [
  {
   "cell_type": "markdown",
   "metadata": {},
   "source": [
    "## Exercise 1: An introductory lesson on using Google Earth Engine"
   ]
  },
  {
   "cell_type": "markdown",
   "metadata": {},
   "source": [
    "*The exercise below follows [**Chapter 15, Exercise 1**](https://learning.nceas.ucsb.edu/2022-09-arctic/sections/15-google-earth-engine.html#exercise-1-an-introductory-lesson-on-using-google-earth-engine) from the book, [Scalable and Computationally Reproducible Approaches to Arctic Research](https://learning.nceas.ucsb.edu/2022-09-arctic/). Code cells are intentially left blank so that participants may code along. Feel free to reference [the book](https://learning.nceas.ucsb.edu/2022-09-arctic/sections/15-google-earth-engine.html#exercise-1-an-introductory-lesson-on-using-google-earth-engine) to check your work against the example code provided.*"
   ]
  },
  {
   "cell_type": "markdown",
   "metadata": {},
   "source": [
    "### **Part i.** Setup"
   ]
  },
  {
   "cell_type": "markdown",
   "metadata": {},
   "source": [
    "1. Create a Google Earth Engine account (if you haven't already done so) -- refer back to the [Preface](https://learning.nceas.ucsb.edu/2022-09-arctic/#create-a-free-google-earth-engine-gee-account) for instructions on how to do so\n",
    "\n",
    "2. Load libraries"
   ]
  },
  {
   "cell_type": "code",
   "execution_count": 1,
   "metadata": {},
   "outputs": [],
   "source": [
    "# import `ee` and `geemap` libraries\n",
    "import ee\n",
    "import geemap"
   ]
  },
  {
   "cell_type": "markdown",
   "metadata": {},
   "source": [
    "3. Authenticate your GEE account\n",
    "\n",
    "- In order to begin using GEE, you’ll need to connect your environment (`scomp`) to the authentication credentials associated with your Google account. This will need to be done each time you connect to GEE, (but only be done once per session)."
   ]
  },
  {
   "cell_type": "code",
   "execution_count": 2,
   "metadata": {},
   "outputs": [
    {
     "data": {
      "text/html": [
       "<p>To authorize access needed by Earth Engine, open the following\n",
       "        URL in a web browser and follow the instructions:</p>\n",
       "        <p><a href=https://code.earthengine.google.com/client-auth?scopes=https%3A//www.googleapis.com/auth/earthengine%20https%3A//www.googleapis.com/auth/devstorage.full_control&request_id=Zv19iDgKDB9TFZdwbKyjW1kVQeQr0NPz4zTiOsEPa80&tc=WChCinsKASnsplAs-2yowJWOoSjpjNk9tx4hcBmZLUE&cc=lY_kN0XNyvTAIZfRwGlHXWd3lTxBsm7WhSWee7c-NGo>https://code.earthengine.google.com/client-auth?scopes=https%3A//www.googleapis.com/auth/earthengine%20https%3A//www.googleapis.com/auth/devstorage.full_control&request_id=Zv19iDgKDB9TFZdwbKyjW1kVQeQr0NPz4zTiOsEPa80&tc=WChCinsKASnsplAs-2yowJWOoSjpjNk9tx4hcBmZLUE&cc=lY_kN0XNyvTAIZfRwGlHXWd3lTxBsm7WhSWee7c-NGo</a></p>\n",
       "        <p>The authorization workflow will generate a code, which you should paste in the box below.</p>\n",
       "        "
      ],
      "text/plain": [
       "<IPython.core.display.HTML object>"
      ]
     },
     "metadata": {},
     "output_type": "display_data"
    },
    {
     "name": "stdout",
     "output_type": "stream",
     "text": [
      "\n",
      "Successfully saved authorization token.\n"
     ]
    }
   ],
   "source": [
    "# authenticate\n",
    "ee.Authenticate() # triggers the authentication process"
   ]
  },
  {
   "cell_type": "markdown",
   "metadata": {},
   "source": [
    "This should launch a browser window where you can login with your Google account to the Google Earth Engine Authenticator. Following the prompts will generate a code, which you’ll then need to copy and paste into the VS Code command palette (at the top of the IDE). This will be saved as an authentication token so you won’t need to go through this process again until the next time you start a new session. The browser-based authentication steps will look something like this:\n",
    "\n",
    "- **Notebook Authenticator:** choose an active Google account and Cloud Project (you may have to create one if this is your first time authenticating) and click “Generate Token”  \n",
    "- **Choose an account:** if prompted, select the same Google account as above  \n",
    "- **Google hasn’t verified this app:** You may be temped to click the blue “Back to saftey” button, but don’t! Click “Continue”  \n",
    "- **Select what Earth Engine Notebook Client can access:** click both check boxes, then “Continue”  \n",
    "- **Copy your authorization code** to your clipboard to paste into the VS Code command palette"
   ]
  },
  {
   "cell_type": "markdown",
   "metadata": {},
   "source": [
    "4. Lastly, initialize. This verifies that valid credentials have been created and populates the Python client library with methods that the backend server supports."
   ]
  },
  {
   "cell_type": "code",
   "execution_count": 3,
   "metadata": {},
   "outputs": [
    {
     "ename": "EEException",
     "evalue": "Not signed up for Earth Engine or project is not registered. Visit https://earthengine.google.com/faq/",
     "output_type": "error",
     "traceback": [
      "\u001b[0;31m---------------------------------------------------------------------------\u001b[0m",
      "\u001b[0;31mHttpError\u001b[0m                                 Traceback (most recent call last)",
      "File \u001b[0;32m~/.virtualenvs/scomp/lib/python3.9/site-packages/ee/data.py:328\u001b[0m, in \u001b[0;36m_execute_cloud_call\u001b[0;34m(call, num_retries)\u001b[0m\n\u001b[1;32m    327\u001b[0m \u001b[39mtry\u001b[39;00m:\n\u001b[0;32m--> 328\u001b[0m   \u001b[39mreturn\u001b[39;00m call\u001b[39m.\u001b[39;49mexecute(num_retries\u001b[39m=\u001b[39;49mnum_retries)\n\u001b[1;32m    329\u001b[0m \u001b[39mexcept\u001b[39;00m googleapiclient\u001b[39m.\u001b[39merrors\u001b[39m.\u001b[39mHttpError \u001b[39mas\u001b[39;00m e:\n",
      "File \u001b[0;32m~/.virtualenvs/scomp/lib/python3.9/site-packages/googleapiclient/_helpers.py:134\u001b[0m, in \u001b[0;36mpositional.<locals>.positional_decorator.<locals>.positional_wrapper\u001b[0;34m(*args, **kwargs)\u001b[0m\n\u001b[1;32m    133\u001b[0m         logger\u001b[39m.\u001b[39mwarning(message)\n\u001b[0;32m--> 134\u001b[0m \u001b[39mreturn\u001b[39;00m wrapped(\u001b[39m*\u001b[39;49margs, \u001b[39m*\u001b[39;49m\u001b[39m*\u001b[39;49mkwargs)\n",
      "File \u001b[0;32m~/.virtualenvs/scomp/lib/python3.9/site-packages/googleapiclient/http.py:915\u001b[0m, in \u001b[0;36mHttpRequest.execute\u001b[0;34m(self, http, num_retries)\u001b[0m\n\u001b[1;32m    914\u001b[0m \u001b[39mif\u001b[39;00m resp\u001b[39m.\u001b[39mstatus \u001b[39m>\u001b[39m\u001b[39m=\u001b[39m \u001b[39m300\u001b[39m:\n\u001b[0;32m--> 915\u001b[0m     \u001b[39mraise\u001b[39;00m HttpError(resp, content, uri\u001b[39m=\u001b[39m\u001b[39mself\u001b[39m\u001b[39m.\u001b[39muri)\n\u001b[1;32m    916\u001b[0m \u001b[39mreturn\u001b[39;00m \u001b[39mself\u001b[39m\u001b[39m.\u001b[39mpostproc(resp, content)\n",
      "\u001b[0;31mHttpError\u001b[0m: <HttpError 403 when requesting https://earthengine.googleapis.com/v1alpha/projects/earthengine-legacy/algorithms?prettyPrint=false&alt=json returned \"Not signed up for Earth Engine or project is not registered. Visit https://earthengine.google.com/faq/\". Details: \"Not signed up for Earth Engine or project is not registered. Visit https://earthengine.google.com/faq/\">",
      "\nDuring handling of the above exception, another exception occurred:\n",
      "\u001b[0;31mEEException\u001b[0m                               Traceback (most recent call last)",
      "Cell \u001b[0;32mIn [3], line 2\u001b[0m\n\u001b[1;32m      1\u001b[0m \u001b[38;5;66;03m# intialize\u001b[39;00m\n\u001b[0;32m----> 2\u001b[0m \u001b[43mee\u001b[49m\u001b[38;5;241;43m.\u001b[39;49m\u001b[43mInitialize\u001b[49m\u001b[43m(\u001b[49m\u001b[43m)\u001b[49m\n",
      "File \u001b[0;32m~/.virtualenvs/scomp/lib/python3.9/site-packages/ee/__init__.py:141\u001b[0m, in \u001b[0;36mInitialize\u001b[0;34m(credentials, opt_url, cloud_api_key, http_transport, project)\u001b[0m\n\u001b[1;32m    132\u001b[0m data\u001b[39m.\u001b[39minitialize(\n\u001b[1;32m    133\u001b[0m     credentials\u001b[39m=\u001b[39mcredentials,\n\u001b[1;32m    134\u001b[0m     api_base_url\u001b[39m=\u001b[39m(opt_url \u001b[39m+\u001b[39m \u001b[39m'\u001b[39m\u001b[39m/api\u001b[39m\u001b[39m'\u001b[39m \u001b[39mif\u001b[39;00m opt_url \u001b[39melse\u001b[39;00m \u001b[39mNone\u001b[39;00m),\n\u001b[0;32m   (...)\u001b[0m\n\u001b[1;32m    138\u001b[0m     project\u001b[39m=\u001b[39mproject,\n\u001b[1;32m    139\u001b[0m     http_transport\u001b[39m=\u001b[39mhttp_transport)\n\u001b[1;32m    140\u001b[0m \u001b[39m# Initialize the dynamically loaded functions on the objects that want them.\u001b[39;00m\n\u001b[0;32m--> 141\u001b[0m ApiFunction\u001b[39m.\u001b[39;49minitialize()\n\u001b[1;32m    142\u001b[0m Element\u001b[39m.\u001b[39minitialize()\n\u001b[1;32m    143\u001b[0m Image\u001b[39m.\u001b[39minitialize()\n",
      "File \u001b[0;32m~/.virtualenvs/scomp/lib/python3.9/site-packages/ee/apifunction.py:154\u001b[0m, in \u001b[0;36mApiFunction.initialize\u001b[0;34m(cls)\u001b[0m\n\u001b[1;32m    152\u001b[0m \u001b[39m\"\"\"Initializes the list of signatures from the Earth Engine front-end.\"\"\"\u001b[39;00m\n\u001b[1;32m    153\u001b[0m \u001b[39mif\u001b[39;00m \u001b[39mnot\u001b[39;00m \u001b[39mcls\u001b[39m\u001b[39m.\u001b[39m_api:\n\u001b[0;32m--> 154\u001b[0m   signatures \u001b[39m=\u001b[39m data\u001b[39m.\u001b[39;49mgetAlgorithms()\n\u001b[1;32m    155\u001b[0m   api \u001b[39m=\u001b[39m {}\n\u001b[1;32m    156\u001b[0m   \u001b[39mfor\u001b[39;00m name, sig \u001b[39min\u001b[39;00m signatures\u001b[39m.\u001b[39mitems():\n\u001b[1;32m    157\u001b[0m     \u001b[39m# Strip type parameters.\u001b[39;00m\n",
      "File \u001b[0;32m~/.virtualenvs/scomp/lib/python3.9/site-packages/ee/data.py:1071\u001b[0m, in \u001b[0;36mgetAlgorithms\u001b[0;34m()\u001b[0m\n\u001b[1;32m   1066\u001b[0m     \u001b[39mprint\u001b[39m(\n\u001b[1;32m   1067\u001b[0m         \u001b[39m'\u001b[39m\u001b[39m*** Earth Engine ***\u001b[39m\u001b[39m'\u001b[39m,\n\u001b[1;32m   1068\u001b[0m         response[_INIT_MESSAGE_HEADER],\n\u001b[1;32m   1069\u001b[0m         file\u001b[39m=\u001b[39msys\u001b[39m.\u001b[39mstderr)\n\u001b[1;32m   1070\u001b[0m call\u001b[39m.\u001b[39madd_response_callback(inspect)\n\u001b[0;32m-> 1071\u001b[0m \u001b[39mreturn\u001b[39;00m _cloud_api_utils\u001b[39m.\u001b[39mconvert_algorithms(_execute_cloud_call(call))\n",
      "File \u001b[0;32m~/.virtualenvs/scomp/lib/python3.9/site-packages/ee/data.py:330\u001b[0m, in \u001b[0;36m_execute_cloud_call\u001b[0;34m(call, num_retries)\u001b[0m\n\u001b[1;32m    328\u001b[0m   \u001b[39mreturn\u001b[39;00m call\u001b[39m.\u001b[39mexecute(num_retries\u001b[39m=\u001b[39mnum_retries)\n\u001b[1;32m    329\u001b[0m \u001b[39mexcept\u001b[39;00m googleapiclient\u001b[39m.\u001b[39merrors\u001b[39m.\u001b[39mHttpError \u001b[39mas\u001b[39;00m e:\n\u001b[0;32m--> 330\u001b[0m   \u001b[39mraise\u001b[39;00m _translate_cloud_exception(e)\n",
      "\u001b[0;31mEEException\u001b[0m: Not signed up for Earth Engine or project is not registered. Visit https://earthengine.google.com/faq/"
     ]
    }
   ],
   "source": [
    "# intialize\n",
    "ee.Initialize() "
   ]
  },
  {
   "cell_type": "markdown",
   "metadata": {},
   "source": [
    "If successful, you're now ready to begin working with Google Earth Engine!"
   ]
  },
  {
   "cell_type": "markdown",
   "metadata": {},
   "source": [
    "### **Part ii.** Explore the ERA5 Daily Aggregates Data"
   ]
  },
  {
   "cell_type": "markdown",
   "metadata": {},
   "source": [
    "We’ll be using the ERA5 daily aggregates reanalysis dataset, produced by the [European Centre for Medium-Range Weather Forecasts](https://www.ecmwf.int/) (ECMWF), found [here](https://developers.google.com/earth-engine/datasets/catalog/ECMWF_ERA5_DAILY), which models atmospheric weather observations.\n",
    "\n",
    "Take a few moments to explore the metadata record for this dataset. You’ll notice that it includes a bunch of important information, including:\n",
    "\n",
    "- **Dataset Availability:** the date range\n",
    "- **Dataset Provider:** where the data come from\n",
    "- **Earth Engine Snippet:** a code snippet used for loading the dataset\n",
    "- **Description (tab):** get to know a bit about the data\n",
    "- **Bands (tab):** the variables present in the dataset; each band has its own name, data type, scale, mask and projection\n",
    "- **Image Properties:** metadata available for each image band\n",
    "- **Example Code:** a script to load and visualize ERA5 climate reanalysis parameters in Google Earth Engine (JavaScript)"
   ]
  },
  {
   "cell_type": "markdown",
   "metadata": {},
   "source": [
    "### **Part iii.** Visualize global precipitation using ERA5 Daily Aggregate data\n",
    "\n",
    "*Content for this section was adapted from Dr. Sam Stevenson’s [Visualizing global precipitation using Google Earth Engine](https://github.com/samanthastevenson/EDS220_Fall2021/blob/main/Week1_ERA5Maps_GEE.ipynb) lesson, given in her [EDS 220 course](https://samanthastevenson.github.io/EDS220_site/) in Fall 2021.*\n",
    "\n",
    "1. Create an interactive basemap\n",
    "\n",
    "- The default basemap is (you guessed it) Google Maps. Let's create an empty Google Map that you can manipulate just like you would in the typical Google Maps interface. Do this using the `Map` method from the `geemap` library. We’ll also center the map at a specified latitude and longitude (here, 40N, 100E), set a zoom level, and save our map as an object called `myMap`."
   ]
  },
  {
   "cell_type": "code",
   "execution_count": null,
   "metadata": {},
   "outputs": [],
   "source": [
    "# create a basemap called `myMap`\n",
    "myMap = geemap.Map(center = [40, -100], zoom = 2)\n",
    "myMap"
   ]
  },
  {
   "cell_type": "markdown",
   "metadata": {},
   "source": [
    "2. Load the ERA5 Image Collection from GEE\n",
    "\n",
    "- Next, we need to tell GEE what data we want to layer on top of our basemap. The `ImageCollection` method extracts a set of individual images that satisfies some criterion that you pass to GEE through the `ee` package. This is stored as an **ImageCollection** object which can be filtered and processed in various ways. We can pass the `ImageCollction` method agruments to tell GEE which data we want to retrieve. Below, we retrieve all daily ERA5 data."
   ]
  },
  {
   "cell_type": "code",
   "execution_count": null,
   "metadata": {},
   "outputs": [],
   "source": [
    "# load ERA5 data and save as object called `weatherData`\n",
    "weatherData = ee.ImageCollection('ECMWF/ERA5/DAILY')"
   ]
  },
  {
   "cell_type": "markdown",
   "metadata": {},
   "source": [
    "3. Select an image to plot\n",
    "\n",
    "- To plot a map over our Google Maps basemap, we need an *Image* rather than an *ImageCollection*. ERA5 contains many different climate variables – explore which variables the dataset contains under the [Bands](https://developers.google.com/earth-engine/datasets/catalog/ECMWF_ERA5_DAILY#bands) tab. We’ll use the `select` method to choose the parameter(s) we’re interested in from our `weatherData` object. Let’s select the `total_precipitation` band."
   ]
  },
  {
   "cell_type": "code",
   "execution_count": null,
   "metadata": {},
   "outputs": [],
   "source": [
    "# select desired bands (total_preciptation); save as object called `precip`\n",
    "precip = weatherData.select(\"total_precipitation\")\n"
   ]
  },
  {
   "cell_type": "markdown",
   "metadata": {},
   "source": [
    "- We can look at our `precip` object metadata using the `print` method to see that it’s still an *ImageCollection*."
   ]
  },
  {
   "cell_type": "code",
   "execution_count": null,
   "metadata": {},
   "outputs": [],
   "source": [
    "# print `precip`\n",
    "precip"
   ]
  },
  {
   "cell_type": "markdown",
   "metadata": {},
   "source": [
    "- Let’s say that we want to look at data for a particular time of interest – e.g. January 1, 2019 - December 31, 2019. We can apply the `filterDate` method to our selected `total_precipitation` parameter to filter for data from our chosen date range. We can also apply the `mean` method, which takes whatever precedes it and calculates the average. "
   ]
  },
  {
   "cell_type": "code",
   "execution_count": null,
   "metadata": {},
   "outputs": [],
   "source": [
    "# initial date of interest (inclusive)\n",
    "i_date = '2019-01-01'\n",
    "\n",
    "# final data of interest (exclusive)\n",
    "f_date = '2020-01-01'\n",
    "\n",
    "# select apporpriate bands (total_preciptation), dates, and calculate mean precipitation across that date range\n",
    "precip = weatherData.select(\"total_precipitation\").filterDate(i_date, f_date).mean()"
   ]
  },
  {
   "cell_type": "markdown",
   "metadata": {},
   "source": [
    "- Use the print method again to check out your new `precip` object – notice that it’s now an `ee.Image` (rather than `ee.ImageCollection`) and the start and end date values are as we specified."
   ]
  },
  {
   "cell_type": "code",
   "execution_count": null,
   "metadata": {},
   "outputs": [],
   "source": [
    "# print `precip` again\n",
    "precip"
   ]
  },
  {
   "cell_type": "markdown",
   "metadata": {},
   "source": [
    "4. Add the precipitation Image to the basemap\n",
    "\n",
    "- We can first use the `setCenter` method to tell the map where to center itself (here, we'll center it over Cook Inlet, Alaska). It takes the longitude and latitude as the first two arguments, followed by the zoom level."
   ]
  },
  {
   "cell_type": "code",
   "execution_count": null,
   "metadata": {},
   "outputs": [],
   "source": [
    "# center map over Cook Inlet, AK (lat = 60, lon = -151)\n",
    "myMap.setCenter(lat = 60, lon = -151, zoom = 4)"
   ]
  },
  {
   "cell_type": "markdown",
   "metadata": {},
   "source": [
    "- Next, set a color palette to use when plotting the data layer. The following is a palette specified for ERA5 precipitation data (scroll down to the example code, available on the [landing page for the ERA5 metadata](https://developers.google.com/earth-engine/datasets/catalog/ECMWF_ERA5_DAILY) in the Earth Engine Data Catelog). We can adjust the max value to change the range of pixel values to which the palette should be applied – this will make our colors stand out a bit more when we layer our precipitation data on our basemap, below."
   ]
  },
  {
   "cell_type": "code",
   "execution_count": null,
   "metadata": {},
   "outputs": [],
   "source": [
    "# create a color palette for our precipitation map; save it as an object called `precip_palette`\n",
    "precip_palette = {\n",
    "    'min':0,\n",
    "    'max':0.01, # change the max value from the default to 0.01 to make the color range scale larger, allowing us to differentiate between finer precip levels\n",
    "    'palette': ['#FFFFFF', '#00FFFF', '#0080FF', '#DA00FF', '#FFA400', '#FF0000']\n",
    "}"
   ]
  },
  {
   "cell_type": "markdown",
   "metadata": {},
   "source": [
    "- Finally, plot our filtered data, `precip`, on top of our basemap using the `addLayer` method. We’ll also pass it our visualization parameters (colors and ranges stored in `precip_palette`, the name of the data field, `total precipitation`, and opacity (so that we can see the basemap underneath)."
   ]
  },
  {
   "cell_type": "code",
   "execution_count": null,
   "metadata": {},
   "outputs": [],
   "source": [
    "# add precipitation data to our basemap centered over Cook Inlet, AK\n",
    "myMap.addLayer(precip, precip_palette, 'total precipitation', opacity = 0.3)\n",
    "myMap"
   ]
  }
 ],
 "metadata": {
  "kernelspec": {
   "display_name": "Python 3.9.13 ('scomp': virtualenv)",
   "language": "python",
   "name": "python3"
  },
  "language_info": {
   "codemirror_mode": {
    "name": "ipython",
    "version": 3
   },
   "file_extension": ".py",
   "mimetype": "text/x-python",
   "name": "python",
   "nbconvert_exporter": "python",
   "pygments_lexer": "ipython3",
   "version": "3.9.13"
  },
  "orig_nbformat": 4,
  "vscode": {
   "interpreter": {
    "hash": "59049d0c8af1389fdee2df1bb0209b50be40b52bae5a5d1ea5ef4b656e78a80d"
   }
  }
 },
 "nbformat": 4,
 "nbformat_minor": 2
}
