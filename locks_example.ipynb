{
 "cells": [
  {
   "cell_type": "code",
   "execution_count": 1,
   "metadata": {},
   "outputs": [
    {
     "name": "stdout",
     "output_type": "stream",
     "text": [
      "012   HelloHelloHello\n",
      "\n",
      "\n",
      "012   worldworldworld\n",
      "\n",
      "\n"
     ]
    }
   ],
   "source": [
    "# Locks\n",
    "from concurrent.futures import ProcessPoolExecutor\n",
    "import time\n",
    "\n",
    "def hello(i):\n",
    "    print(i, 'Hello')\n",
    "    print(i, 'world')\n",
    "\n",
    "executor = ProcessPoolExecutor()\n",
    "futures = [executor.submit(hello, i) for i in range(3)]\n",
    "for future in futures:\n",
    "    future.result()"
   ]
  },
  {
   "cell_type": "markdown",
   "metadata": {},
   "source": [
    "The previous code printed the words in that order because all processors printed hello before they moved onto world beacuse it is in parallel. Locking fixes this because it makes sure that each iteration of both print statements is complete before we move onto the next iteration."
   ]
  },
  {
   "cell_type": "code",
   "execution_count": 2,
   "metadata": {},
   "outputs": [
    {
     "name": "stdout",
     "output_type": "stream",
     "text": [
      "1 Hello\n",
      "1 world\n",
      "0 Hello\n",
      "0 world\n",
      "2 Hello\n",
      "2 world\n"
     ]
    }
   ],
   "source": [
    "from concurrent.futures import ProcessPoolExecutor\n",
    "import time\n",
    "import multiprocessing\n",
    "\n",
    "def hello(i, lock):\n",
    "    with lock:\n",
    "        print(i, 'Hello')\n",
    "        print(i, 'world')\n",
    "\n",
    "lock = multiprocessing.Manager().Lock()\n",
    "executor = ProcessPoolExecutor()\n",
    "futures = [executor.submit(hello, i, lock) for i in range(3)]\n",
    "for future in futures:\n",
    "    future.result()"
   ]
  },
  {
   "cell_type": "markdown",
   "metadata": {},
   "source": [
    "The order of iterations was 1, 0, 2, but will change each time, each concurrent process is executed in a diff order, but the order of the hello world is the same. We took an asynchornous prcess and turned it into a synchronous process. We slowed it down. The more locks you put the more serial your code becomes. If you lcok the entire body of a function, you might as well write the code in serial from the start. If you create a mutual dependency with 2 variables, this is a deadlock. They are waiting for the other process to run before each starts."
   ]
  }
 ],
 "metadata": {
  "kernelspec": {
   "display_name": "Python 3.9.13 ('scomp': virtualenv)",
   "language": "python",
   "name": "python3"
  },
  "language_info": {
   "codemirror_mode": {
    "name": "ipython",
    "version": 3
   },
   "file_extension": ".py",
   "mimetype": "text/x-python",
   "name": "python",
   "nbconvert_exporter": "python",
   "pygments_lexer": "ipython3",
   "version": "3.9.13"
  },
  "orig_nbformat": 4,
  "vscode": {
   "interpreter": {
    "hash": "59049d0c8af1389fdee2df1bb0209b50be40b52bae5a5d1ea5ef4b656e78a80d"
   }
  }
 },
 "nbformat": 4,
 "nbformat_minor": 2
}
