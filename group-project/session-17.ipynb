{
 "cells": [
  {
   "cell_type": "markdown",
   "metadata": {},
   "source": [
    "# Session 17: Visualization\n",
    "\n",
    "Creating a pyramid of tiles at different resolutions. We first combine the files by appending them in a contiguous wat. Then we resample some files at a lower resolution and save them as fewer files and aggregating pixels. We resample to save on storage. We are aiming to look \n",
    "\n",
    "Questions people asked:\n",
    "- why are we lowering res\n",
    "- are there dependencies in parallelization, like the tiles all need to be appended and aggregated before we can create the whole extent over all the AOI\n",
    "- is there overlap in the tiles that we have to get rid of? No because the preprocessing took care of this earlier\n"
   ]
  },
  {
   "cell_type": "code",
   "execution_count": null,
   "metadata": {},
   "outputs": [
    {
     "ename": "",
     "evalue": "",
     "output_type": "error",
     "traceback": [
      "\u001b[1;31mFailed to start the Kernel. \n",
      "\u001b[1;31mCannot execute code, session has been disposed. \n",
      "\u001b[1;31mView Jupyter <a href='command:jupyter.viewOutput'>log</a> for further details."
     ]
    }
   ],
   "source": [
    "\n",
    "import parsl\n",
    "from parsl import python_app\n",
    "from parsl.config import Config\n",
    "from parsl.channels import LocalChannel\n",
    "from parsl.executors import HighThroughputExecutor\n",
    "from parsl.providers import LocalProvider\n",
    "\n",
    "from ipyleaflet import Map, LocalTileLayer, WMSLayer, projections\n",
    "\n",
    "from grouputils import initialize_rasterizer"
   ]
  },
  {
   "cell_type": "markdown",
   "metadata": {},
   "source": [
    "Interactive plotting is an excellent tool to facilitate data exploration. A very popular tool for creating Interactive maps is [Leaflet](https://leafletjs.com/). Leaflet is a JavaScript library for mapping, which has wrappers in numerous languages including python (`ipyleaflet`).\n",
    "\n",
    "In session 8 and 11, we created tiles at the maximum zoom level (z: 13). If you wanted to display all of this data on an interactive map, like a Leaflet map, it would be extremely slow to load because there is so much of it, and it's at such a high resolution. To show this data in a performant way on a map, we need to create lower resolution tiles, and they need to be in a web-accessible format (most browsers can't render GeoTIFF files, PNG is better.) - [Here is a good explanation](https://www.maptiler.com/google-maps-coordinates-tile-bounds-projection/)\n",
    "\n",
    "Today, we will create web tiles and png images of those tiles at zoom levels from 1 to 13. This way, when we are zoomed out in the interactive map, the lower resolution zoom level 1 is loaded. Only when you zoom in, and the extent is smaller, will higher resolution levels load. This scaling of resolution by zoom level is what allows us to interact with the data in a performant way.\n",
    "\n",
    "First, we'll set up the rasterizer as before."
   ]
  },
  {
   "cell_type": "code",
   "execution_count": null,
   "metadata": {},
   "outputs": [],
   "source": [
    "iwp_rasterizer = initialize_rasterizer(\"/home/shares/example-pdg-data\")"
   ]
  },
  {
   "cell_type": "markdown",
   "metadata": {},
   "source": [
    "Here are the methods that we will use from the RasterTiler:\n",
    "\n",
    "`parent_geotiffs_from_children`, which takes as an argument the set of tiles (geotiffs) that we produced yesterday, and produces parent tiles at the next zoom level up.\n",
    "\n",
    "`webtiles_from_geotiffs` takes the set of geotiffs produced by `parent_geotiffs_from_children` and creates png webtiles from them.\n",
    "\n",
    "Like the last session, we will run this code in batches."
   ]
  },
  {
   "cell_type": "code",
   "execution_count": null,
   "metadata": {},
   "outputs": [],
   "source": [
    "# We'll also use the make_batch definition from Session 11 to create batches of\n",
    "# GeoTIFF files to process.\n",
    "def make_batch(items, batch_size):\n",
    "    return [items[i:i + batch_size] for i in range(0, len(items), batch_size)]"
   ]
  },
  {
   "cell_type": "markdown",
   "metadata": {},
   "source": [
    "## Creating parent tiles\n",
    "\n",
    "To create lower resolution GeoTIFF files, we can combine high resolution GeoTIFFs then resample them so that we still have 256x256 pixel data. We will start with zoom level 13 (12 with 0 indexing), and run the `parent_geotiffs_from_children` method on each zoom level to generate the parent zoom level. Then we run it on the parent level to generate the grandparent level...and so on."
   ]
  },
  {
   "cell_type": "code",
   "execution_count": null,
   "metadata": {},
   "outputs": [],
   "source": [
    "# Get each z-level of GeoTIFFs we need to create:\n",
    "parent_zs = list(range(12, 0, -1)) # this gives us something to iterate over\n",
    "print(f'Parent Zs: {parent_zs}')\n"
   ]
  },
  {
   "cell_type": "markdown",
   "metadata": {},
   "source": [
    "Here is an example for how we can run this, without parsl, on a single zoom level."
   ]
  },
  {
   "cell_type": "code",
   "execution_count": null,
   "metadata": {},
   "outputs": [],
   "source": [
    "parent_z = 12 # we are working with only 1 zoom level in this chunk as an example, we are at 13 so the parent is 12\n",
    "batch_size = 50\n",
    "\n",
    "# get a list of child paths from the parent zoom level\n",
    "child_paths = iwp_rasterizer.tiles.get_filenames_from_dir(\n",
    "    'geotiff',\n",
    "    z=parent_z + 1) # 12 + 1 = 13 (13 is what we generated yesterday, the highest resolution, and 12, 11, 10, so on is more zoomed out)\n",
    "\n",
    "# Make a list of all the parent tiles that will be created from the z+1 child\n",
    "# tiles\n",
    "parent_tiles = set()\n",
    "for child_path in child_paths:\n",
    "    parent_tile = iwp_rasterizer.tiles.get_parent_tile(child_path)\n",
    "    parent_tiles.add(parent_tile)\n",
    "parent_tiles = list(parent_tiles) # creates a list of data file paths that WILL be generated but it is just paths, not future objects\n",
    "\n",
    "# Break all parent tiles at level z into batches\n",
    "parent_tile_batches = make_batch(parent_tiles, batch_size) # create the batches\n",
    "\n",
    "\n",
    "for parent_tile_batch in parent_tile_batches: # this is the step we paralellize, running as a nested loop over all parent zoom levels\n",
    "    iwp_rasterizer.parent_geotiffs_from_children(parent_tile_batch) \n",
    "    # this function above takes the file path names that were generated in the previous code, then actually executes the code to process the children (high res) into the parents (lower res)\n",
    "    # we cannot parallelize between zoom levels but we can parallelize within zoom levels\n",
    "    # the parent tiles are larger than child tiles, you are going within the parent tiles to the child tiles and run those child tiles in parallel\n"
   ]
  },
  {
   "cell_type": "markdown",
   "metadata": {},
   "source": [
    "Set up the parsl executor"
   ]
  },
  {
   "cell_type": "code",
   "execution_count": null,
   "metadata": {},
   "outputs": [],
   "source": [
    "# Set up executor\n",
    "# Set up Parsl executor\n",
    "activate_env = 'workon scomp'\n",
    "\n",
    "htex_config = Config(\n",
    "   executors = [\n",
    "       HighThroughputExecutor(\n",
    "            max_workers = 32,\n",
    "            provider = LocalProvider(\n",
    "                worker_init = activate_env)\n",
    "       )\n",
    "   ]\n",
    " )\n",
    "\n",
    "parsl.clear()\n",
    "parsl.load(htex_config)"
   ]
  },
  {
   "cell_type": "markdown",
   "metadata": {},
   "source": [
    "Now that we know how to do this for one zoom level, how would you write this out for all of the levels?\n",
    "\n",
    "In what part of the code would you want to insert a parsl app to parallelize the process? What dependencies exist for this process to run correctly?\n",
    "\n",
    "Once you have those questions answered, write a parsl app to parallelize generating the parent tiles."
   ]
  },
  {
   "cell_type": "code",
   "execution_count": null,
   "metadata": {},
   "outputs": [],
   "source": [
    "# Generate parsl app for creating parent geotiffs from children\n",
    "print(\"Create parent geotiffs from children in parallel\")\n",
    "\n",
    "@python_app\n",
    "def parent_geotiffs_from_children_parallel(parent_tile_batch, rasterizer):\n",
    "    output = rasterizer.parent_geotiffs_from_children(parent_tile_batch, recursive = False)\n",
    "    return output"
   ]
  },
  {
   "cell_type": "markdown",
   "metadata": {},
   "source": [
    "Next, set up your executor as we did yesterday."
   ]
  },
  {
   "cell_type": "markdown",
   "metadata": {},
   "source": [
    "Then generate parent tiles at all zoom levels. Don't forget to shut down your executor!"
   ]
  },
  {
   "cell_type": "code",
   "execution_count": null,
   "metadata": {},
   "outputs": [
    {
     "ename": "",
     "evalue": "",
     "output_type": "error",
     "traceback": [
      "\u001b[1;31mThe Kernel crashed while executing code in the the current cell or a previous cell. Please review the code in the cell(s) to identify a possible cause of the failure. Click <a href='https://aka.ms/vscodeJupyterKernelCrash'>here</a> for more info. View Jupyter <a href='command:jupyter.viewOutput'>log</a> for further details."
     ]
    }
   ],
   "source": [
    "# generate parent tiles at all zoom levels using the parsl app\n",
    "for z in parent_zs:\n",
    "    child_paths = iwp_rasterizer.tiles.get_filenames_from_dir('geotiff', z = z + 1)\n",
    "\n",
    "    parent_tiles = set()\n",
    "    for child_path in child_paths:\n",
    "        parent_tile = iwp_rasterizer.tiles.get_parent_tile(child_path)\n",
    "        parent_tiles.add(parent_tile)\n",
    "\n",
    "    parent_tiles = list(parent_tiles)\n",
    "\n",
    "    # Break all parent tiles at level z into batches\n",
    "    parent_tile_batches = make_batch(parent_tiles, batch_size) \n",
    "\n",
    "    app_futures = [] # this list needs to be created within the list because we need to overwrite each zoom level before creating the next zoomed out level\n",
    "    for parent_tile_batch in parent_tile_batches:\n",
    "        app_future = parent_geotiffs_from_children_parallel(parent_tile_batch = parent_tile_batch, rasterizer = iwp_rasterizer)\n",
    "        app_futures.append(app_future)\n",
    "\n",
    "    done = [app_future.result() for app_future in app_futures]\n",
    "    print(done)"
   ]
  },
  {
   "cell_type": "code",
   "execution_count": null,
   "metadata": {},
   "outputs": [],
   "source": [
    "parent_zs"
   ]
  },
  {
   "cell_type": "code",
   "execution_count": null,
   "metadata": {},
   "outputs": [],
   "source": [
    "print(app_future.result())"
   ]
  },
  {
   "cell_type": "markdown",
   "metadata": {},
   "source": [
    "# Make webtiles\n",
    "\n",
    "In the last step to create the webtiles for the map, we will use the `webtiles_from_geotiffs` method on all of the geotiffs we just created. First, we need to update our `iwp_rasterizer` config object using the `update_ranges` method, which will add the new zoom ranges we just created to the config information."
   ]
  },
  {
   "cell_type": "code",
   "execution_count": null,
   "metadata": {},
   "outputs": [],
   "source": [
    "iwp_rasterizer.update_ranges()"
   ]
  },
  {
   "cell_type": "markdown",
   "metadata": {},
   "source": [
    "Now we can get a list of files to create webtiles from, and run the `webtiles_from_geotiffs` over one."
   ]
  },
  {
   "cell_type": "code",
   "execution_count": null,
   "metadata": {},
   "outputs": [],
   "source": [
    "geotiff_paths = iwp_rasterizer.tiles.get_filenames_from_dir('geotiff')\n",
    "iwp_rasterizer.webtile_from_geotiff(geotiff_paths[0]) # turn them in to PNG's"
   ]
  },
  {
   "cell_type": "markdown",
   "metadata": {},
   "source": [
    "Like we've done before, create a parsl app to create the webtiles in parallel. Since this process is incredibly fast, run it over batches of 200."
   ]
  },
  {
   "cell_type": "code",
   "execution_count": null,
   "metadata": {},
   "outputs": [],
   "source": [
    "# create parsl app\n"
   ]
  },
  {
   "cell_type": "code",
   "execution_count": null,
   "metadata": {},
   "outputs": [],
   "source": [
    "# run app over all of the geotiffs in batches of 200"
   ]
  },
  {
   "cell_type": "markdown",
   "metadata": {},
   "source": [
    "## Make a map!"
   ]
  },
  {
   "cell_type": "markdown",
   "metadata": {},
   "source": [
    "Now we are finally ready to explore these data using `ipyleaflet`. First, we have to set up a basemap layer to use. We use a set of WMS (Web Map Service) tiles provided by USGS. One reason we chose this set is it allows us to reproject the data into EPSG 4326, which is the projection our data are in. Other commonly used web tiles are in web mercator, which is not what our data are in."
   ]
  },
  {
   "cell_type": "code",
   "execution_count": null,
   "metadata": {},
   "outputs": [],
   "source": [
    "wms = WMSLayer(\n",
    "    url=\"https://basemap.nationalmap.gov:443/arcgis/services/USGSImageryTopo/MapServer/WmsServer\",\n",
    "    layers=\"0\",\n",
    "    format=\"image/png\",\n",
    "    transparent=True,\n",
    "    min_zoom=0,\n",
    "    crs=projections.EPSG4326 # grabs a set of base tiles in 4326, there are not many base maps \n",
    ")"
   ]
  },
  {
   "cell_type": "markdown",
   "metadata": {},
   "source": [
    "Now we can call the `Map` function from `ipyleaflet`, set up a default zoom and center, add the WMS layer and projection, and finally add our set of local tiles using the `add_layer` method. \n",
    "\n",
    "Note that the path you give to the `LocalTileLayer` function has variables for z, x, and y. If you look in the `geotiff` directory at the higher zoom levels, you'll wee that the directories and files are all named very regularly. This is so that they can be automatically handled by the `LocalTileLayer` function, and is a standard for how web tiles are served. The methods from the `rasterizer` class all handled this for us in our data processing."
   ]
  },
  {
   "cell_type": "code",
   "execution_count": null,
   "metadata": {},
   "outputs": [],
   "source": [
    "m = Map(center=(66.5, -159.9),\n",
    "        zoom=9,\n",
    "        layers=(wms,),\n",
    "        crs=projections.EPSG4326) \n",
    "\n",
    "m.add_layer(LocalTileLayer(path='web_tiles/prop_pixel_covered_by_IWP/WorldCRS84Quad/{z}/{x}/{y}.png'));\n",
    "\n",
    "m\n",
    "\n",
    "# z = zoom level, x and y are the next codes that the function needs to navigate the file structure \n",
    "# looking at the output, the harsh lines indicate something is wrong\n",
    "# the lines that segregate similar areas with vastly different ice wedge polygon presence implies that there are more passes in area that appear to have more polygons"
   ]
  },
  {
   "cell_type": "markdown",
   "metadata": {},
   "source": [
    "## Bonus\n",
    "\n",
    "Play around with [`ipyleaflet`](https://ipyleaflet.readthedocs.io/en/latest/) and add whatever features you think might be useful, like a legend or markers."
   ]
  }
 ],
 "metadata": {
  "kernelspec": {
   "display_name": "Python 3.9.13 ('scomp': virtualenv)",
   "language": "python",
   "name": "python3"
  },
  "language_info": {
   "codemirror_mode": {
    "name": "ipython",
    "version": 3
   },
   "file_extension": ".py",
   "mimetype": "text/x-python",
   "name": "python",
   "nbconvert_exporter": "python",
   "pygments_lexer": "ipython3",
   "version": "3.9.13"
  },
  "orig_nbformat": 4,
  "vscode": {
   "interpreter": {
    "hash": "59049d0c8af1389fdee2df1bb0209b50be40b52bae5a5d1ea5ef4b656e78a80d"
   }
  }
 },
 "nbformat": 4,
 "nbformat_minor": 2
}
